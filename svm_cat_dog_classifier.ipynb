{
  "nbformat": 4,
  "nbformat_minor": 0,
  "metadata": {
    "colab": {
      "provenance": []
    },
    "kernelspec": {
      "name": "python3",
      "display_name": "Python 3"
    },
    "language_info": {
      "name": "python"
    }
  },
  "cells": [
    {
      "cell_type": "code",
      "execution_count": 1,
      "metadata": {
        "colab": {
          "base_uri": "https://localhost:8080/"
        },
        "id": "-6_USEWYsFQs",
        "outputId": "c7a5d39b-dc3d-446b-e0ab-14dbff532bb0"
      },
      "outputs": [
        {
          "output_type": "stream",
          "name": "stdout",
          "text": [
            "✅ Dataset downloaded and extracted!\n"
          ]
        }
      ],
      "source": [
        "import urllib.request\n",
        "import zipfile\n",
        "\n",
        "url = \"https://storage.googleapis.com/mledu-datasets/cats_and_dogs_filtered.zip\"\n",
        "filename = \"cats_and_dogs_filtered.zip\"\n",
        "\n",
        "urllib.request.urlretrieve(url, filename)\n",
        "\n",
        "with zipfile.ZipFile(filename, 'r') as zip_ref:\n",
        "    zip_ref.extractall(\".\")\n",
        "\n",
        "print(\"✅ Dataset downloaded and extracted!\")\n"
      ]
    },
    {
      "cell_type": "code",
      "source": [
        "import os\n",
        "import numpy as np\n",
        "import cv2\n",
        "import random\n",
        "\n",
        "IMG_SIZE = 64\n",
        "BASE_DIR = \"cats_and_dogs_filtered/train\"\n",
        "CATEGORIES = [\"cats\", \"dogs\"]\n",
        "\n",
        "data = []\n",
        "\n",
        "for category in CATEGORIES:\n",
        "    path = os.path.join(BASE_DIR, category)\n",
        "    class_num = CATEGORIES.index(category)\n",
        "\n",
        "    for img_name in os.listdir(path)[:500]:\n",
        "        try:\n",
        "            img_path = os.path.join(path, img_name)\n",
        "            img = cv2.imread(img_path, cv2.IMREAD_GRAYSCALE)\n",
        "            img = cv2.resize(img, (IMG_SIZE, IMG_SIZE))\n",
        "            data.append([img.flatten(), class_num])\n",
        "        except:\n",
        "            pass\n",
        "\n",
        "random.shuffle(data)\n",
        "print(f\"✅ Loaded {len(data)} images.\")\n"
      ],
      "metadata": {
        "colab": {
          "base_uri": "https://localhost:8080/"
        },
        "id": "9TpHH6mJsJdd",
        "outputId": "4ea2373f-cf2b-442b-e66c-14f11ef51128"
      },
      "execution_count": 2,
      "outputs": [
        {
          "output_type": "stream",
          "name": "stdout",
          "text": [
            "✅ Loaded 1000 images.\n"
          ]
        }
      ]
    },
    {
      "cell_type": "markdown",
      "source": [],
      "metadata": {
        "id": "XdhnN0GWsNJf"
      }
    },
    {
      "cell_type": "code",
      "source": [
        "from sklearn.model_selection import train_test_split\n",
        "from sklearn.svm import SVC\n",
        "from sklearn.metrics import accuracy_score, classification_report\n",
        "\n",
        "X, y = zip(*data)\n",
        "X = np.array(X)\n",
        "y = np.array(y)\n",
        "\n",
        "X_train, X_test, y_train, y_test = train_test_split(X, y, test_size=0.2)\n",
        "\n",
        "svm = SVC(kernel='linear')\n",
        "svm.fit(X_train, y_train)\n",
        "\n",
        "y_pred = svm.predict(X_test)\n",
        "\n",
        "print(\"✅ Accuracy:\", accuracy_score(y_test, y_pred))\n",
        "print(\"\\nClassification Report:\\n\", classification_report(y_test, y_pred))\n"
      ],
      "metadata": {
        "colab": {
          "base_uri": "https://localhost:8080/"
        },
        "id": "gJ8L9IclsN3C",
        "outputId": "6a77933e-5081-4000-c109-e2cb4c133843"
      },
      "execution_count": 3,
      "outputs": [
        {
          "output_type": "stream",
          "name": "stdout",
          "text": [
            "✅ Accuracy: 0.56\n",
            "\n",
            "Classification Report:\n",
            "               precision    recall  f1-score   support\n",
            "\n",
            "           0       0.53      0.64      0.58        95\n",
            "           1       0.60      0.49      0.54       105\n",
            "\n",
            "    accuracy                           0.56       200\n",
            "   macro avg       0.57      0.56      0.56       200\n",
            "weighted avg       0.57      0.56      0.56       200\n",
            "\n"
          ]
        }
      ]
    },
    {
      "cell_type": "code",
      "source": [
        "import joblib\n",
        "\n",
        "joblib.dump(svm, \"svm_cat_dog_model.pkl\")\n",
        "print(\"✅ Model saved\")\n"
      ],
      "metadata": {
        "colab": {
          "base_uri": "https://localhost:8080/"
        },
        "id": "4WO-zWwPsUcJ",
        "outputId": "b99c9511-5faa-4727-c839-2ef2e4b45208"
      },
      "execution_count": 4,
      "outputs": [
        {
          "output_type": "stream",
          "name": "stdout",
          "text": [
            "✅ Model saved\n"
          ]
        }
      ]
    },
    {
      "cell_type": "code",
      "source": [],
      "metadata": {
        "id": "1xCb_ORstQDu"
      },
      "execution_count": null,
      "outputs": []
    }
  ]
}